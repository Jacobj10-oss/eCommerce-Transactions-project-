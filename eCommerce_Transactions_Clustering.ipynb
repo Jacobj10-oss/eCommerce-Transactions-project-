{
  "nbformat": 4,
  "nbformat_minor": 0,
  "metadata": {
    "colab": {
      "private_outputs": true,
      "provenance": []
    },
    "kernelspec": {
      "name": "python3",
      "display_name": "Python 3"
    },
    "language_info": {
      "name": "python"
    }
  },
  "cells": [
    {
      "cell_type": "code",
      "execution_count": null,
      "metadata": {
        "id": "pbFcc0D7hQNB"
      },
      "outputs": [],
      "source": [
        "import numpy as np\n",
        "import pandas as pd\n",
        "import matplotlib.pyplot as plt\n",
        "import seaborn as sns\n",
        "from sklearn.cluster import KMeans"
      ]
    },
    {
      "cell_type": "code",
      "source": [
        "customers_df=pd.read_csv('/content/Customers.csv')\n",
        "transactions_df=pd.read_csv('/content/Transactions.csv')"
      ],
      "metadata": {
        "id": "MD3DQAIDiuq4"
      },
      "execution_count": null,
      "outputs": []
    },
    {
      "cell_type": "code",
      "source": [
        "customers_df.head()\n",
        "transactions_df.head()"
      ],
      "metadata": {
        "id": "0PhjHrqni99Y"
      },
      "execution_count": null,
      "outputs": []
    },
    {
      "cell_type": "code",
      "source": [
        "customers_df.shape\n",
        "transactions_df.shape"
      ],
      "metadata": {
        "id": "uukAfduVjCRf"
      },
      "execution_count": null,
      "outputs": []
    },
    {
      "cell_type": "code",
      "source": [
        "customers_df.info()\n",
        "transactions_df.info()"
      ],
      "metadata": {
        "id": "KrStdvGLjeMw"
      },
      "execution_count": null,
      "outputs": []
    },
    {
      "cell_type": "markdown",
      "source": [
        "preprocessing"
      ],
      "metadata": {
        "id": "M4W9wbRruGnH"
      }
    },
    {
      "cell_type": "code",
      "source": [
        "customers_df_columns=list(customers_df.select_dtypes('object').columns)\n",
        "transactions_df_columns=list(transactions_df.select_dtypes('object').columns)"
      ],
      "metadata": {
        "id": "a590Z4PCt7X9"
      },
      "execution_count": null,
      "outputs": []
    },
    {
      "cell_type": "code",
      "source": [
        "from sklearn.preprocessing import LabelEncoder\n",
        "Encode=LabelEncoder()\n",
        "for column_name in customers_df_columns:\n",
        "    customers_df[column_name] = Encode.fit_transform(customers_df[column_name])\n",
        "\n",
        "for column_name in transactions_df_columns:\n",
        "    transactions_df[column_name] = Encode.fit_transform(transactions_df[column_name])"
      ],
      "metadata": {
        "id": "YIzs6PCPuIdd"
      },
      "execution_count": null,
      "outputs": []
    },
    {
      "cell_type": "code",
      "source": [
        "customers_df.isnull().sum()\n",
        "transactions_df.isnull().sum()"
      ],
      "metadata": {
        "id": "HgaPzsvMkA3J"
      },
      "execution_count": null,
      "outputs": []
    },
    {
      "cell_type": "code",
      "source": [
        "x = customers_df.iloc[:,[2,3]].values\n",
        "y=transactions_df.iloc[:,[5,6]].values"
      ],
      "metadata": {
        "id": "Ei8rh-WTkZ-v"
      },
      "execution_count": null,
      "outputs": []
    },
    {
      "cell_type": "code",
      "source": [
        "print(x)"
      ],
      "metadata": {
        "id": "pTB5WRTSzYYt"
      },
      "execution_count": null,
      "outputs": []
    },
    {
      "cell_type": "code",
      "source": [
        "print(y)"
      ],
      "metadata": {
        "id": "x5ELMJvdzbwG"
      },
      "execution_count": null,
      "outputs": []
    },
    {
      "cell_type": "code",
      "source": [
        "WCSS = []\n",
        "for i in range(2,2):\n",
        "    Kmeans = KMeans(n_clusters=i, init='k-means++', random_state=42)\n",
        "    Kmeans.fit(x)\n",
        "\n",
        "    wcss.append(Kmeans.inertia_)\n"
      ],
      "metadata": {
        "id": "PpmGSQaAp6FK"
      },
      "execution_count": null,
      "outputs": []
    },
    {
      "cell_type": "code",
      "source": [
        "sns.set()\n",
        "plt.plot(range(2,2), WCSS)\n",
        "plt.title('The Elbow point graph')\n",
        "plt.xlabel('Number of clusters')\n",
        "plt.ylabel('WCSS')\n",
        "plt.show()"
      ],
      "metadata": {
        "id": "683Gpfmoq5gv"
      },
      "execution_count": null,
      "outputs": []
    },
    {
      "cell_type": "markdown",
      "source": [
        "Optimum Number of clusters=5"
      ],
      "metadata": {
        "id": "0EEe2qznxm20"
      }
    },
    {
      "cell_type": "markdown",
      "source": [
        "Training the K-Means model on a dataset"
      ],
      "metadata": {
        "id": "fpz1ijwNxuCZ"
      }
    },
    {
      "cell_type": "code",
      "source": [
        "kmeans = KMeans(n_clusters = 5, init = 'k-means++', random_state = 42)"
      ],
      "metadata": {
        "id": "6KHS5clVxjcZ"
      },
      "execution_count": null,
      "outputs": []
    },
    {
      "cell_type": "markdown",
      "source": [],
      "metadata": {
        "id": "p-jOMJR92T2n"
      }
    },
    {
      "cell_type": "markdown",
      "source": [],
      "metadata": {
        "id": "C6F1PPnY2Tz0"
      }
    },
    {
      "cell_type": "code",
      "source": [
        "y = kmeans.fit_predict(x)\n",
        "print(y)"
      ],
      "metadata": {
        "id": "16Da8lgMxiwm"
      },
      "execution_count": null,
      "outputs": []
    },
    {
      "cell_type": "markdown",
      "source": [
        "Visualizing all the clusters"
      ],
      "metadata": {
        "id": "7Dq-MAa1ycIq"
      }
    },
    {
      "cell_type": "code",
      "source": [
        "plt.figure(figsize=(10, 8))\n",
        "plt.scatter(x[y == 0, 0], x[y == 0, 1], s = 100, c = 'red', label = 'Cluster 1')\n",
        "plt.scatter(x[y == 1, 0], x[y == 1, 1], s = 100, c = 'green', label = 'Cluster 2')\n",
        "plt.scatter(x[y == 2, 0], x[y == 2, 1], s = 100, c = 'blue', label = 'Cluster 3')\n",
        "plt.scatter(x[y == 3, 0], x[y == 3, 1], s = 100, c = 'violet', label = 'Cluster 4')\n",
        "plt.scatter(x[y == 4, 0], x[y == 4, 1], s = 100, c = 'yellow', label = 'Cluster 5')\n",
        "\n",
        "plt.scatter(kmeans.cluster_centers_[:,0], kmeans.cluster_centers_[:,1],s=300,c='blue',label='centroids')\n",
        "\n",
        "plt.title('customer segments')\n",
        "plt.xlabel('Annual Income')\n",
        "plt.ylabel('Spending Score')\n",
        "plt.show()"
      ],
      "metadata": {
        "id": "hSd6BYqt0ftC"
      },
      "execution_count": null,
      "outputs": []
    },
    {
      "cell_type": "code",
      "source": [],
      "metadata": {
        "id": "JDDZlLIh9COT"
      },
      "execution_count": null,
      "outputs": []
    }
  ]
}